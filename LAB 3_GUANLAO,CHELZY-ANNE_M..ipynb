{
 "cells": [
  {
   "cell_type": "code",
   "execution_count": 1,
   "metadata": {},
   "outputs": [
    {
     "name": "stdout",
     "output_type": "stream",
     "text": [
      "[9]\n",
      "[1, 1]\n"
     ]
    }
   ],
   "source": [
    "def integers(input_list):\n",
    "    return [x**2 for x in input_list if x % 2 != 0]\n",
    "\n",
    "print(integers([2, 4, 3]))    \n",
    "print(integers([0, 0, 1, 1]))  "
   ]
  },
  {
   "cell_type": "code",
   "execution_count": 2,
   "metadata": {},
   "outputs": [
    {
     "name": "stdout",
     "output_type": "stream",
     "text": [
      "ListofTuples: [(1, 'mark'), (2, 'alice'), (3, 'john')]\n"
     ]
    }
   ],
   "source": [
    "list_1 = [1, 2, 3]\n",
    "list_2 = [\"mark\", \"alice\", \"john\"]\n",
    "\n",
    "listofTuple = [(list_1[d], list_2[d]) for d in range(len(list_1))]\n",
    "\n",
    "result = listofTuple\n",
    "\n",
    "print(\"ListofTuples:\", result)"
   ]
  },
  {
   "cell_type": "code",
   "execution_count": 4,
   "metadata": {},
   "outputs": [
    {
     "name": "stdout",
     "output_type": "stream",
     "text": [
      "dIffErEntIAl\n",
      "EqUAtIOns\n"
     ]
    }
   ],
   "source": [
    "def vowels_To_Upper(s):\n",
    "    v = \"aeiou\"\n",
    "    return ''.join([char.upper() if char.lower() in v else char for char in s])\n",
    "       \n",
    "print(vowels_To_Upper(\"differential\"))   \n",
    "print(vowels_To_Upper(\"equations\"))    "
   ]
  }
 ],
 "metadata": {
  "kernelspec": {
   "display_name": "Python 3",
   "language": "python",
   "name": "python3"
  },
  "language_info": {
   "codemirror_mode": {
    "name": "ipython",
    "version": 3
   },
   "file_extension": ".py",
   "mimetype": "text/x-python",
   "name": "python",
   "nbconvert_exporter": "python",
   "pygments_lexer": "ipython3",
   "version": "3.12.0"
  }
 },
 "nbformat": 4,
 "nbformat_minor": 2
}
